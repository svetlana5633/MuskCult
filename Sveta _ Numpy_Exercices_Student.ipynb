{
  "nbformat": 4,
  "nbformat_minor": 0,
  "metadata": {
    "colab": {
      "name": "Numpy_Exercices_Student.ipynb",
      "provenance": [],
      "collapsed_sections": []
    },
    "kernelspec": {
      "name": "python3",
      "display_name": "Python 3"
    }
  },
  "cells": [
    {
      "cell_type": "markdown",
      "metadata": {
        "id": "Y9lyQWVseLtw",
        "colab_type": "text"
      },
      "source": [
        "# Numpy Exercices"
      ]
    },
    {
      "cell_type": "markdown",
      "metadata": {
        "id": "gB74WlYkeOCM",
        "colab_type": "text"
      },
      "source": [
        "## 1. Install & Import Numpy"
      ]
    },
    {
      "cell_type": "code",
      "metadata": {
        "id": "pw0M-C9-eSo6",
        "colab_type": "code",
        "colab": {}
      },
      "source": [
        ""
      ],
      "execution_count": 0,
      "outputs": []
    },
    {
      "cell_type": "code",
      "metadata": {
        "id": "WVSmBv8DeufO",
        "colab_type": "code",
        "colab": {}
      },
      "source": [
        ""
      ],
      "execution_count": 0,
      "outputs": []
    },
    {
      "cell_type": "markdown",
      "metadata": {
        "id": "7ABAuChUelvp",
        "colab_type": "text"
      },
      "source": [
        "## 2. Create a 1D Numpy Array of number"
      ]
    },
    {
      "cell_type": "code",
      "metadata": {
        "id": "xAFSB-4YesSa",
        "colab_type": "code",
        "colab": {}
      },
      "source": [
        "np_array = None\n",
        "np_array"
      ],
      "execution_count": 0,
      "outputs": []
    },
    {
      "cell_type": "markdown",
      "metadata": {
        "id": "G2TBtdxYfBVE",
        "colab_type": "text"
      },
      "source": [
        "## 4. Create a 4x4 Numpy Array full of 0"
      ]
    },
    {
      "cell_type": "code",
      "metadata": {
        "id": "-qxTgKv6fMAS",
        "colab_type": "code",
        "colab": {}
      },
      "source": [
        "np_full_zero = None\n",
        "np_full_zero"
      ],
      "execution_count": 0,
      "outputs": []
    },
    {
      "cell_type": "markdown",
      "metadata": {
        "id": "vRnXnXiPflID",
        "colab_type": "text"
      },
      "source": [
        "## 4. Extract data from a 1D NArray"
      ]
    },
    {
      "cell_type": "code",
      "metadata": {
        "id": "4fjLVlvlfqKX",
        "colab_type": "code",
        "colab": {}
      },
      "source": [
        "# Odd number\n",
        "np_odd = None\n",
        "np_odd"
      ],
      "execution_count": 0,
      "outputs": []
    },
    {
      "cell_type": "markdown",
      "metadata": {
        "id": "wTU4uSYPgKSq",
        "colab_type": "text"
      },
      "source": [
        "## 5.1 Replace data"
      ]
    },
    {
      "cell_type": "code",
      "metadata": {
        "id": "Ri0QnJUegQi9",
        "colab_type": "code",
        "colab": {}
      },
      "source": [
        "# Replace even number by 1 and odd by 0.\n",
        "np_replace = None\n",
        "np_replace"
      ],
      "execution_count": 0,
      "outputs": []
    },
    {
      "cell_type": "markdown",
      "metadata": {
        "id": "fy0C1EJGjUmg",
        "colab_type": "text"
      },
      "source": [
        "## 5.2 Replace data 2"
      ]
    },
    {
      "cell_type": "code",
      "metadata": {
        "id": "LEFp2edUjOMX",
        "colab_type": "code",
        "colab": {}
      },
      "source": [
        "# Replace even numbers by 0 and keep the original odd numbers\n",
        "np_replace2 = None\n",
        "np_replace2"
      ],
      "execution_count": 0,
      "outputs": []
    },
    {
      "cell_type": "markdown",
      "metadata": {
        "id": "pHvJIak4jxYO",
        "colab_type": "text"
      },
      "source": [
        "## 6. Transform 1D to 2D array"
      ]
    },
    {
      "cell_type": "code",
      "metadata": {
        "id": "aaY9n7phj2Ou",
        "colab_type": "code",
        "colab": {}
      },
      "source": [
        "# Transform the original 1D array by a 2D array sliced in the middle\n",
        "np_2d2 = np2.reshape(2, -1)\n",
        "print(np_2d2)"
      ],
      "execution_count": 0,
      "outputs": []
    },
    {
      "cell_type": "code",
      "metadata": {
        "id": "DyS1YtYbSlrS",
        "colab_type": "code",
        "colab": {}
      },
      "source": [
        "np_2d2 = None\n",
        "print(np_2d2)"
      ],
      "execution_count": 0,
      "outputs": []
    },
    {
      "cell_type": "markdown",
      "metadata": {
        "id": "2xQSqBGqkV_t",
        "colab_type": "text"
      },
      "source": [
        "## 7. Union of 2 arrays\n"
      ]
    },
    {
      "cell_type": "code",
      "metadata": {
        "id": "0Q8uF5aSkkLO",
        "colab_type": "code",
        "colab": {}
      },
      "source": [
        "# Make 2 new 1D array arr1 ([0; 9] by 1 unit) / arr2 ([0; 1[ by 0.1) then stack them into 2D array stacked_arr\n",
        "arr1 = None\n",
        "arr2 = None\n",
        "stacked_arr = None\n",
        "stacked_arr"
      ],
      "execution_count": 0,
      "outputs": []
    },
    {
      "cell_type": "markdown",
      "metadata": {
        "id": "Q84l_yqknkCh",
        "colab_type": "text"
      },
      "source": [
        "##8. Union of 2 arrays bis"
      ]
    },
    {
      "cell_type": "code",
      "metadata": {
        "id": "Kq6zSdognnee",
        "colab_type": "code",
        "colab": {}
      },
      "source": [
        "# Same as before but stacking them in the same row\n",
        "stacked_arr = None\n",
        "stacked_arr"
      ],
      "execution_count": 0,
      "outputs": []
    },
    {
      "cell_type": "markdown",
      "metadata": {
        "id": "Uu8F7c81odMO",
        "colab_type": "text"
      },
      "source": [
        "## 9. Find the common items"
      ]
    },
    {
      "cell_type": "code",
      "metadata": {
        "id": "n6o9l_Tyn0ZT",
        "colab_type": "code",
        "colab": {}
      },
      "source": [
        "np_arr1 = np.array([1,2,3,4,5,6,7,8,9,0])\n",
        "np_arr2 = np.array([2,8,5,12,0])\n",
        "np_common = None\n",
        "np_common"
      ],
      "execution_count": 0,
      "outputs": []
    },
    {
      "cell_type": "markdown",
      "metadata": {
        "id": "Zm0AQW5No_hi",
        "colab_type": "text"
      },
      "source": [
        "## 10. Remove item from another np array"
      ]
    },
    {
      "cell_type": "code",
      "metadata": {
        "id": "seqLi_rWo_GN",
        "colab_type": "code",
        "colab": {}
      },
      "source": [
        "np_removed_common = None\n",
        "np_removed_common"
      ],
      "execution_count": 0,
      "outputs": []
    },
    {
      "cell_type": "markdown",
      "metadata": {
        "id": "A7gFEoZbLfbA",
        "colab_type": "text"
      },
      "source": [
        "## 11. Use a python function to handle NP Array"
      ]
    },
    {
      "cell_type": "code",
      "metadata": {
        "id": "92LIa6nJLmde",
        "colab_type": "code",
        "colab": {}
      },
      "source": [
        "# Find, in a new array, the max value of each pair of 2 distinct NP Array.\n",
        "# Use the given function to \"vectorize\" the function\n",
        "np_1 = np.array([2,5,7,4,9,3,1,6,5,8,9])\n",
        "np_2 = np.array([4,5,3,1,5,12,4,9,0,2,3])\n",
        "\n",
        "def find_max(x, y):\n",
        "  pass\n",
        "\n",
        "find_max_pair = None\n",
        "\n",
        "find_max_pair(np_1, np_2)"
      ],
      "execution_count": 0,
      "outputs": []
    },
    {
      "cell_type": "markdown",
      "metadata": {
        "id": "RzMe1o2AON1u",
        "colab_type": "text"
      },
      "source": [
        "## 12. Create 2D random floats array"
      ]
    },
    {
      "cell_type": "code",
      "metadata": {
        "id": "mSN1dY0mOTZm",
        "colab_type": "code",
        "colab": {}
      },
      "source": [
        "# Let's a 6*4 array\n",
        "np_random = None\n",
        "np_random"
      ],
      "execution_count": 0,
      "outputs": []
    },
    {
      "cell_type": "markdown",
      "metadata": {
        "id": "nDaUapx7TcBg",
        "colab_type": "text"
      },
      "source": [
        "## 13. Find the mean, median and the standard deviation of data\n"
      ]
    },
    {
      "cell_type": "code",
      "metadata": {
        "id": "OaYDQMDlT9XC",
        "colab_type": "code",
        "colab": {}
      },
      "source": [
        "# Randomly generated here\n",
        "np_data = None\n",
        "\n",
        "mean_data, median_data, std_data = None, None, None\n",
        "print(mean_data, median_data, std_data)"
      ],
      "execution_count": 0,
      "outputs": []
    },
    {
      "cell_type": "markdown",
      "metadata": {
        "id": "ieTgY3eKlj0c",
        "colab_type": "text"
      },
      "source": [
        "## 14. Calculate the quartile"
      ]
    },
    {
      "cell_type": "code",
      "metadata": {
        "id": "ZTBhXk6_T_3D",
        "colab_type": "code",
        "colab": {}
      },
      "source": [
        "url = \"https://www.data.gouv.fr/fr/datasets/r/b6e15e69-de08-4842-b5db-eaf865d22061\"\n",
        "\n",
        "data = np.genfromtxt(url, delimiter=\";\", encoding=\"latin1\", names=True, dtype=[int, object, int, object, object, int, object, int, object, object, object, object, float])\n",
        "np_values = None\n",
        "np_modified = None\n",
        "np_quartile = None\n",
        "np_quartile"
      ],
      "execution_count": 0,
      "outputs": []
    }
  ]
}